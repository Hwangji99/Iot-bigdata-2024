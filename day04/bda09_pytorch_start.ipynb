{
 "cells": [
  {
   "cell_type": "markdown",
   "metadata": {},
   "source": [
    "### PyTorch\n",
    "\n",
    "<img src=\"https://upload.wikimedia.org/wikipedia/commons/thumb/c/c6/PyTorch_logo_black.svg/1920px-PyTorch_logo_black.svg.png\" width=\"700\" style=\"background:white\">\n",
    "\n",
    "- https://pytorch.org/ 공식사이트\n",
    "- https://pytorch.kr/ 한글 공식사이트\n",
    "- https://tutorials.pytorch.kr/  튜토리얼만 한글화 사이트"
   ]
  },
  {
   "cell_type": "markdown",
   "metadata": {},
   "source": [
    "#### PyTorch 설치\n",
    "- CPU 설치\n",
    "    - 간단하지만, 그래픽카드 가속 사용할 수 없음\n",
    "    - 기본 파이썬 환경 설치\n",
    "\n",
    "- GPU 설치\n",
    "    - 가상환경 생성, 설치\n",
    "\n",
    "##### CPU 설치\n",
    "- https://pytorch.org/get-started/locally/ 나와있는 Note에서 해당 플랫폼 종류 선택, 명령어 복사 실행\n",
    "```python\n",
    "!pip install torch torchvision torchaudio\n",
    "```"
   ]
  },
  {
   "cell_type": "code",
   "execution_count": 1,
   "metadata": {},
   "outputs": [
    {
     "name": "stdout",
     "output_type": "stream",
     "text": [
      "Collecting torch\n",
      "  Downloading torch-2.4.0-cp311-cp311-win_amd64.whl.metadata (27 kB)\n",
      "Collecting torchvision\n",
      "  Downloading torchvision-0.19.0-1-cp311-cp311-win_amd64.whl.metadata (6.1 kB)\n",
      "Collecting torchaudio\n",
      "  Downloading torchaudio-2.4.0-cp311-cp311-win_amd64.whl.metadata (6.4 kB)\n",
      "Requirement already satisfied: filelock in c:\\dev\\langs\\python311\\lib\\site-packages (from torch) (3.13.1)\n",
      "Requirement already satisfied: typing-extensions>=4.8.0 in c:\\dev\\langs\\python311\\lib\\site-packages (from torch) (4.9.0)\n",
      "Collecting sympy (from torch)\n",
      "  Downloading sympy-1.13.1-py3-none-any.whl.metadata (12 kB)\n",
      "Collecting networkx (from torch)\n",
      "  Downloading networkx-3.3-py3-none-any.whl.metadata (5.1 kB)\n",
      "Requirement already satisfied: jinja2 in c:\\dev\\langs\\python311\\lib\\site-packages (from torch) (3.1.3)\n",
      "Collecting fsspec (from torch)\n",
      "  Downloading fsspec-2024.6.1-py3-none-any.whl.metadata (11 kB)\n",
      "Requirement already satisfied: numpy<2 in c:\\dev\\langs\\python311\\lib\\site-packages (from torchvision) (1.26.3)\n",
      "Requirement already satisfied: pillow!=8.3.*,>=5.3.0 in c:\\dev\\langs\\python311\\lib\\site-packages (from torchvision) (10.2.0)\n",
      "Requirement already satisfied: MarkupSafe>=2.0 in c:\\dev\\langs\\python311\\lib\\site-packages (from jinja2->torch) (2.1.4)\n",
      "Collecting mpmath<1.4,>=1.1.0 (from sympy->torch)\n",
      "  Downloading mpmath-1.3.0-py3-none-any.whl.metadata (8.6 kB)\n",
      "Downloading torch-2.4.0-cp311-cp311-win_amd64.whl (197.9 MB)\n",
      "   ---------------------------------------- 0.0/197.9 MB ? eta -:--:--\n",
      "   ---------------------------------------- 1.6/197.9 MB 7.6 MB/s eta 0:00:26\n",
      "    --------------------------------------- 3.7/197.9 MB 9.5 MB/s eta 0:00:21\n",
      "   - -------------------------------------- 5.5/197.9 MB 9.3 MB/s eta 0:00:21\n",
      "   - -------------------------------------- 7.6/197.9 MB 9.4 MB/s eta 0:00:21\n",
      "   - -------------------------------------- 9.7/197.9 MB 9.6 MB/s eta 0:00:20\n",
      "   -- ------------------------------------- 11.0/197.9 MB 9.0 MB/s eta 0:00:21\n",
      "   -- ------------------------------------- 13.4/197.9 MB 9.3 MB/s eta 0:00:20\n",
      "   --- ------------------------------------ 15.5/197.9 MB 9.4 MB/s eta 0:00:20\n",
      "   --- ------------------------------------ 17.8/197.9 MB 9.5 MB/s eta 0:00:19\n",
      "   --- ------------------------------------ 19.4/197.9 MB 9.4 MB/s eta 0:00:19\n",
      "   ---- ----------------------------------- 21.5/197.9 MB 9.4 MB/s eta 0:00:19\n",
      "   ---- ----------------------------------- 23.1/197.9 MB 9.4 MB/s eta 0:00:19\n",
      "   ---- ----------------------------------- 24.1/197.9 MB 9.0 MB/s eta 0:00:20\n",
      "   ----- ---------------------------------- 25.2/197.9 MB 9.0 MB/s eta 0:00:20\n",
      "   ----- ---------------------------------- 26.2/197.9 MB 8.5 MB/s eta 0:00:21\n",
      "   ----- ---------------------------------- 28.0/197.9 MB 8.5 MB/s eta 0:00:21\n",
      "   ------ --------------------------------- 29.9/197.9 MB 8.4 MB/s eta 0:00:20\n",
      "   ------ --------------------------------- 31.5/197.9 MB 8.4 MB/s eta 0:00:20\n",
      "   ------ --------------------------------- 32.8/197.9 MB 8.4 MB/s eta 0:00:20\n",
      "   ------ --------------------------------- 34.3/197.9 MB 8.2 MB/s eta 0:00:20\n",
      "   ------- -------------------------------- 35.9/197.9 MB 8.2 MB/s eta 0:00:20\n",
      "   ------- -------------------------------- 37.2/197.9 MB 8.2 MB/s eta 0:00:20\n",
      "   ------- -------------------------------- 38.5/197.9 MB 8.0 MB/s eta 0:00:20\n",
      "   -------- ------------------------------- 39.6/197.9 MB 7.9 MB/s eta 0:00:21\n",
      "   -------- ------------------------------- 41.4/197.9 MB 7.9 MB/s eta 0:00:20\n",
      "   -------- ------------------------------- 43.5/197.9 MB 8.0 MB/s eta 0:00:20\n",
      "   --------- ------------------------------ 45.6/197.9 MB 8.1 MB/s eta 0:00:19\n",
      "   --------- ------------------------------ 48.0/197.9 MB 8.2 MB/s eta 0:00:19\n",
      "   ---------- ----------------------------- 50.1/197.9 MB 8.2 MB/s eta 0:00:18\n",
      "   ---------- ----------------------------- 52.4/197.9 MB 8.3 MB/s eta 0:00:18\n",
      "   ----------- ---------------------------- 54.5/197.9 MB 8.4 MB/s eta 0:00:18\n",
      "   ----------- ---------------------------- 56.6/197.9 MB 8.4 MB/s eta 0:00:17\n",
      "   ----------- ---------------------------- 58.7/197.9 MB 8.5 MB/s eta 0:00:17\n",
      "   ------------ --------------------------- 60.3/197.9 MB 8.5 MB/s eta 0:00:17\n",
      "   ------------ --------------------------- 62.1/197.9 MB 8.5 MB/s eta 0:00:16\n",
      "   ------------ --------------------------- 62.9/197.9 MB 8.5 MB/s eta 0:00:16\n",
      "   ------------ --------------------------- 64.2/197.9 MB 8.3 MB/s eta 0:00:17\n",
      "   ------------- -------------------------- 66.1/197.9 MB 8.3 MB/s eta 0:00:16\n",
      "   ------------- -------------------------- 67.1/197.9 MB 8.3 MB/s eta 0:00:16\n",
      "   ------------- -------------------------- 67.1/197.9 MB 8.3 MB/s eta 0:00:16\n",
      "   -------------- ------------------------- 69.5/197.9 MB 8.1 MB/s eta 0:00:16\n",
      "   -------------- ------------------------- 71.6/197.9 MB 8.1 MB/s eta 0:00:16\n",
      "   -------------- ------------------------- 73.9/197.9 MB 8.2 MB/s eta 0:00:16\n",
      "   --------------- ------------------------ 76.0/197.9 MB 8.3 MB/s eta 0:00:15\n",
      "   --------------- ------------------------ 78.1/197.9 MB 8.3 MB/s eta 0:00:15\n",
      "   ---------------- ----------------------- 80.2/197.9 MB 8.3 MB/s eta 0:00:15\n",
      "   ---------------- ----------------------- 82.3/197.9 MB 8.4 MB/s eta 0:00:14\n",
      "   ----------------- ---------------------- 84.4/197.9 MB 8.4 MB/s eta 0:00:14\n",
      "   ----------------- ---------------------- 86.2/197.9 MB 8.4 MB/s eta 0:00:14\n",
      "   ----------------- ---------------------- 88.3/197.9 MB 8.4 MB/s eta 0:00:14\n",
      "   ------------------ --------------------- 90.4/197.9 MB 8.4 MB/s eta 0:00:13\n",
      "   ------------------ --------------------- 92.0/197.9 MB 8.4 MB/s eta 0:00:13\n",
      "   ------------------ --------------------- 93.1/197.9 MB 8.4 MB/s eta 0:00:13\n",
      "   ------------------- -------------------- 94.4/197.9 MB 8.3 MB/s eta 0:00:13\n",
      "   ------------------- -------------------- 95.4/197.9 MB 8.3 MB/s eta 0:00:13\n",
      "   ------------------- -------------------- 97.0/197.9 MB 8.3 MB/s eta 0:00:13\n",
      "   ------------------- -------------------- 98.8/197.9 MB 8.3 MB/s eta 0:00:12\n",
      "   -------------------- ------------------- 99.6/197.9 MB 8.3 MB/s eta 0:00:12\n",
      "   -------------------- ------------------- 100.7/197.9 MB 8.1 MB/s eta 0:00:12\n",
      "   -------------------- ------------------- 102.0/197.9 MB 8.1 MB/s eta 0:00:12\n",
      "   -------------------- ------------------- 103.8/197.9 MB 8.1 MB/s eta 0:00:12\n",
      "   --------------------- ------------------ 105.4/197.9 MB 8.1 MB/s eta 0:00:12\n",
      "   --------------------- ------------------ 107.2/197.9 MB 8.1 MB/s eta 0:00:12\n",
      "   --------------------- ------------------ 108.5/197.9 MB 8.1 MB/s eta 0:00:12\n",
      "   ---------------------- ----------------- 110.6/197.9 MB 8.1 MB/s eta 0:00:11\n",
      "   ---------------------- ----------------- 112.5/197.9 MB 8.1 MB/s eta 0:00:11\n",
      "   ----------------------- ---------------- 114.0/197.9 MB 8.1 MB/s eta 0:00:11\n",
      "   ----------------------- ---------------- 116.1/197.9 MB 8.1 MB/s eta 0:00:11\n",
      "   ----------------------- ---------------- 118.2/197.9 MB 8.2 MB/s eta 0:00:10\n",
      "   ------------------------ --------------- 120.1/197.9 MB 8.2 MB/s eta 0:00:10\n",
      "   ------------------------ --------------- 122.2/197.9 MB 8.2 MB/s eta 0:00:10\n",
      "   ------------------------- -------------- 124.0/197.9 MB 8.2 MB/s eta 0:00:09\n",
      "   ------------------------- -------------- 126.1/197.9 MB 8.2 MB/s eta 0:00:09\n",
      "   ------------------------- -------------- 127.9/197.9 MB 8.3 MB/s eta 0:00:09\n",
      "   ------------------------- -------------- 128.2/197.9 MB 8.2 MB/s eta 0:00:09\n",
      "   -------------------------- ------------- 129.8/197.9 MB 8.1 MB/s eta 0:00:09\n",
      "   -------------------------- ------------- 131.6/197.9 MB 8.1 MB/s eta 0:00:09\n",
      "   --------------------------- ------------ 133.7/197.9 MB 8.2 MB/s eta 0:00:08\n",
      "   --------------------------- ------------ 135.8/197.9 MB 8.2 MB/s eta 0:00:08\n",
      "   --------------------------- ------------ 137.6/197.9 MB 8.2 MB/s eta 0:00:08\n",
      "   ---------------------------- ----------- 139.2/197.9 MB 8.2 MB/s eta 0:00:08\n",
      "   ---------------------------- ----------- 141.0/197.9 MB 8.2 MB/s eta 0:00:07\n",
      "   ---------------------------- ----------- 142.9/197.9 MB 8.2 MB/s eta 0:00:07\n",
      "   ----------------------------- ---------- 145.0/197.9 MB 8.2 MB/s eta 0:00:07\n",
      "   ----------------------------- ---------- 146.8/197.9 MB 8.2 MB/s eta 0:00:07\n",
      "   ------------------------------ --------- 148.9/197.9 MB 8.3 MB/s eta 0:00:06\n",
      "   ------------------------------ --------- 151.3/197.9 MB 8.3 MB/s eta 0:00:06\n",
      "   ------------------------------- -------- 153.4/197.9 MB 8.3 MB/s eta 0:00:06\n",
      "   ------------------------------- -------- 154.9/197.9 MB 8.3 MB/s eta 0:00:06\n",
      "   ------------------------------- -------- 156.2/197.9 MB 8.3 MB/s eta 0:00:06\n",
      "   ------------------------------- -------- 157.3/197.9 MB 8.2 MB/s eta 0:00:05\n",
      "   -------------------------------- ------- 159.4/197.9 MB 8.2 MB/s eta 0:00:05\n",
      "   -------------------------------- ------- 161.5/197.9 MB 8.3 MB/s eta 0:00:05\n",
      "   --------------------------------- ------ 163.6/197.9 MB 8.3 MB/s eta 0:00:05\n",
      "   --------------------------------- ------ 165.7/197.9 MB 8.3 MB/s eta 0:00:04\n",
      "   --------------------------------- ------ 167.8/197.9 MB 8.3 MB/s eta 0:00:04\n",
      "   ---------------------------------- ----- 169.9/197.9 MB 8.3 MB/s eta 0:00:04\n",
      "   ---------------------------------- ----- 170.9/197.9 MB 8.4 MB/s eta 0:00:04\n",
      "   ----------------------------------- ---- 173.3/197.9 MB 8.4 MB/s eta 0:00:03\n",
      "   ----------------------------------- ---- 175.6/197.9 MB 8.4 MB/s eta 0:00:03\n",
      "   ----------------------------------- ---- 177.7/197.9 MB 8.4 MB/s eta 0:00:03\n",
      "   ------------------------------------ --- 178.8/197.9 MB 8.4 MB/s eta 0:00:03\n",
      "   ------------------------------------ --- 180.6/197.9 MB 8.4 MB/s eta 0:00:03\n",
      "   ------------------------------------ --- 182.5/197.9 MB 8.4 MB/s eta 0:00:02\n",
      "   ------------------------------------- -- 183.8/197.9 MB 8.3 MB/s eta 0:00:02\n",
      "   ------------------------------------- -- 185.6/197.9 MB 8.3 MB/s eta 0:00:02\n",
      "   ------------------------------------- -- 187.4/197.9 MB 8.3 MB/s eta 0:00:02\n",
      "   -------------------------------------- - 189.0/197.9 MB 8.3 MB/s eta 0:00:02\n",
      "   -------------------------------------- - 190.8/197.9 MB 8.3 MB/s eta 0:00:01\n",
      "   -------------------------------------- - 191.4/197.9 MB 8.3 MB/s eta 0:00:01\n",
      "   -------------------------------------- - 192.4/197.9 MB 8.3 MB/s eta 0:00:01\n",
      "   ---------------------------------------  194.2/197.9 MB 8.3 MB/s eta 0:00:01\n",
      "   ---------------------------------------  196.1/197.9 MB 8.3 MB/s eta 0:00:01\n",
      "   ---------------------------------------  197.7/197.9 MB 8.3 MB/s eta 0:00:01\n",
      "   ---------------------------------------  197.7/197.9 MB 8.3 MB/s eta 0:00:01\n",
      "   ---------------------------------------- 197.9/197.9 MB 8.2 MB/s eta 0:00:00\n",
      "Downloading torchvision-0.19.0-1-cp311-cp311-win_amd64.whl (1.3 MB)\n",
      "   ---------------------------------------- 0.0/1.3 MB ? eta -:--:--\n",
      "   ---------------------------------------- 1.3/1.3 MB 8.2 MB/s eta 0:00:00\n",
      "Downloading torchaudio-2.4.0-cp311-cp311-win_amd64.whl (2.4 MB)\n",
      "   ---------------------------------------- 0.0/2.4 MB ? eta -:--:--\n",
      "   --------------------- ------------------ 1.3/2.4 MB 7.5 MB/s eta 0:00:01\n",
      "   ---------------------------------------- 2.4/2.4 MB 7.7 MB/s eta 0:00:00\n",
      "Downloading fsspec-2024.6.1-py3-none-any.whl (177 kB)\n",
      "Downloading networkx-3.3-py3-none-any.whl (1.7 MB)\n",
      "   ---------------------------------------- 0.0/1.7 MB ? eta -:--:--\n",
      "   ---------------------------------------- 1.7/1.7 MB 9.2 MB/s eta 0:00:00\n",
      "Downloading sympy-1.13.1-py3-none-any.whl (6.2 MB)\n",
      "   ---------------------------------------- 0.0/6.2 MB ? eta -:--:--\n",
      "   ----------- ---------------------------- 1.8/6.2 MB 10.1 MB/s eta 0:00:01\n",
      "   ----------------------- ---------------- 3.7/6.2 MB 9.5 MB/s eta 0:00:01\n",
      "   -------------------------------------- - 6.0/6.2 MB 9.7 MB/s eta 0:00:01\n",
      "   ---------------------------------------- 6.2/6.2 MB 9.5 MB/s eta 0:00:00\n",
      "Downloading mpmath-1.3.0-py3-none-any.whl (536 kB)\n",
      "   ---------------------------------------- 0.0/536.2 kB ? eta -:--:--\n",
      "   ---------------------------------------- 536.2/536.2 kB 5.8 MB/s eta 0:00:00\n",
      "Installing collected packages: mpmath, sympy, networkx, fsspec, torch, torchvision, torchaudio\n",
      "Successfully installed fsspec-2024.6.1 mpmath-1.3.0 networkx-3.3 sympy-1.13.1 torch-2.4.0 torchaudio-2.4.0 torchvision-0.19.0\n"
     ]
    }
   ],
   "source": [
    "!pip install torch torchvision torchaudio"
   ]
  },
  {
   "cell_type": "code",
   "execution_count": 2,
   "metadata": {},
   "outputs": [],
   "source": [
    "import torch"
   ]
  },
  {
   "cell_type": "code",
   "execution_count": 3,
   "metadata": {},
   "outputs": [
    {
     "data": {
      "text/plain": [
       "'2.4.0+cpu'"
      ]
     },
     "execution_count": 3,
     "metadata": {},
     "output_type": "execute_result"
    }
   ],
   "source": [
    "## 2.4.0 + cpu = CPU 용 설치\n",
    "torch.__version__"
   ]
  },
  {
   "cell_type": "markdown",
   "metadata": {},
   "source": [
    "##### PyTorch GPU 설치\n",
    "- NVIDIA GPU에서만 가능, CUDA로 되어있기 때문\n",
    "- GPU 설치가 가능한지 먼저 확인\n",
    "\n",
    "```python\n",
    "!nvidia-smi\n",
    "```"
   ]
  },
  {
   "cell_type": "code",
   "execution_count": 4,
   "metadata": {},
   "outputs": [
    {
     "name": "stdout",
     "output_type": "stream",
     "text": [
      "Tue Aug  6 12:31:52 2024       \n",
      "+---------------------------------------------------------------------------------------+\n",
      "| NVIDIA-SMI 536.23                 Driver Version: 536.23       CUDA Version: 12.2     |\n",
      "|-----------------------------------------+----------------------+----------------------+\n",
      "| GPU  Name                     TCC/WDDM  | Bus-Id        Disp.A | Volatile Uncorr. ECC |\n",
      "| Fan  Temp   Perf          Pwr:Usage/Cap |         Memory-Usage | GPU-Util  Compute M. |\n",
      "|                                         |                      |               MIG M. |\n",
      "|=========================================+======================+======================|\n",
      "|   0  NVIDIA GeForce GTX 1650      WDDM  | 00000000:01:00.0  On |                  N/A |\n",
      "| 50%   32C    P8               7W /  75W |   1007MiB /  4096MiB |      9%      Default |\n",
      "|                                         |                      |                  N/A |\n",
      "+-----------------------------------------+----------------------+----------------------+\n",
      "                                                                                         \n",
      "+---------------------------------------------------------------------------------------+\n",
      "| Processes:                                                                            |\n",
      "|  GPU   GI   CI        PID   Type   Process name                            GPU Memory |\n",
      "|        ID   ID                                                             Usage      |\n",
      "|=======================================================================================|\n",
      "|    0   N/A  N/A      6168    C+G   C:\\DEV\\IDE\\Microsoft VS Code\\Code.exe     N/A      |\n",
      "|    0   N/A  N/A      7780    C+G   C:\\Windows\\explorer.exe                   N/A      |\n",
      "|    0   N/A  N/A      8568    C+G   ...nt.CBS_cw5n1h2txyewy\\SearchHost.exe    N/A      |\n",
      "|    0   N/A  N/A      8592    C+G   ...2txyewy\\StartMenuExperienceHost.exe    N/A      |\n",
      "|    0   N/A  N/A     10252    C+G   ...on\\124.0.2478.97\\msedgewebview2.exe    N/A      |\n",
      "|    0   N/A  N/A     11044    C+G   ...CBS_cw5n1h2txyewy\\TextInputHost.exe    N/A      |\n",
      "|    0   N/A  N/A     11380    C+G   ...ekyb3d8bbwe\\PhoneExperienceHost.exe    N/A      |\n",
      "|    0   N/A  N/A     13180    C+G   ...5n1h2txyewy\\ShellExperienceHost.exe    N/A      |\n",
      "|    0   N/A  N/A     13432    C+G   ...es\\Umba Corp\\Umba\\UmbaWallpaper.exe    N/A      |\n",
      "|    0   N/A  N/A     14648    C+G   ...20.0.2210.91.x64\\msedgewebview2.exe    N/A      |\n",
      "|    0   N/A  N/A     15420    C+G   ....5487.0_x64__8j3eq9eme6ctt\\IGCC.exe    N/A      |\n",
      "|    0   N/A  N/A     16028    C+G   ...20.0.2210.91.x64\\msedgewebview2.exe    N/A      |\n",
      "|    0   N/A  N/A     16700    C+G   ...r\\AppData\\Roaming\\Zoom\\bin\\Zoom.exe    N/A      |\n",
      "|    0   N/A  N/A     18424    C+G   ...Desktop\\app-3.4.2\\GitHubDesktop.exe    N/A      |\n",
      "|    0   N/A  N/A     19160    C+G   ...on\\124.0.2478.97\\msedgewebview2.exe    N/A      |\n",
      "+---------------------------------------------------------------------------------------+\n"
     ]
    }
   ],
   "source": [
    "!nvidia-smi"
   ]
  },
  {
   "cell_type": "markdown",
   "metadata": {},
   "source": [
    "##### CUDA Version 12.2\n",
    "- CUDA(Compute Unified Device Architecture) - NVIDIA에서 그래픽카드 가속을 위해 만든 기술\n",
    "- https://ko.wikipedia.org/wiki/CUDA\n",
    "\n",
    "##### CUDA 설치\n",
    "- CUDA Toolkit 12.2\n",
    "    - https://developer.nvidia.com/cuda-downloads\n",
    "- cuDNN(Deep Neural Network)\n",
    "    - CUDA Toolkit에 맞는 버전확인\n",
    "    - https://developer.nvidia.com/rdp/cudnn-archive\n",
    "    - https://developer.nvidia.com/cuda-12-2-2-download-archive?target_os=Windows&target_arch=x86_64&target_version=11 확인 후 다운로드(단, 로그인 필수)\n",
    "    - 압축을 풀고 CUDA 경로(C:\\Program Files\\NVIDIA GPU Computing Toolkit\\CUDA\\v12.2)에 복사/붙여넣기 "
   ]
  },
  {
   "cell_type": "markdown",
   "metadata": {},
   "source": [
    "#### GPU용 파이썬 가상환경 만들기\n",
    "- GPU PyTorch는 설치 로그를 봐야하기 때문에 명령 프롬프트에서 진행\n",
    "\n",
    "- 터미널 오픈\n",
    "    - virtualenv 확인\n",
    "    - pip install virtualenv\n",
    "- 가상환경 활성화\n",
    "    - cd gpu_env\\Scripts\\activate\n",
    "\n",
    "- PyTorch GPU 설치\n",
    "    - 파이토치 GetStared 사이트에서 확인 명령어\n",
    "    - pip install torch torchvision torchaudio --index-url https://download.pytorch.org/whl/cu121\n"
   ]
  },
  {
   "cell_type": "markdown",
   "metadata": {},
   "source": [
    "#### 파이토치 GPU 확인"
   ]
  },
  {
   "cell_type": "code",
   "execution_count": 1,
   "metadata": {},
   "outputs": [],
   "source": [
    "import torch"
   ]
  },
  {
   "cell_type": "code",
   "execution_count": 2,
   "metadata": {},
   "outputs": [
    {
     "data": {
      "text/plain": [
       "'2.4.0+cu121'"
      ]
     },
     "execution_count": 2,
     "metadata": {},
     "output_type": "execute_result"
    }
   ],
   "source": [
    "## 2.4.0+cu121 --> CUDA 12.1 버전의 PyTorch\n",
    "torch.__version__"
   ]
  },
  {
   "cell_type": "code",
   "execution_count": 3,
   "metadata": {},
   "outputs": [
    {
     "data": {
      "text/plain": [
       "True"
      ]
     },
     "execution_count": 3,
     "metadata": {},
     "output_type": "execute_result"
    }
   ],
   "source": [
    "## CUDA 쓸 수 있는지 확인\n",
    "torch.cuda.is_available()"
   ]
  },
  {
   "cell_type": "code",
   "execution_count": 4,
   "metadata": {},
   "outputs": [
    {
     "data": {
      "text/plain": [
       "'NVIDIA GeForce GTX 1650'"
      ]
     },
     "execution_count": 4,
     "metadata": {},
     "output_type": "execute_result"
    }
   ],
   "source": [
    "## 설치된 CUDA가 동작하는 그래픽카드 정보확인\n",
    "torch.cuda.get_device_name(0)"
   ]
  },
  {
   "cell_type": "markdown",
   "metadata": {},
   "source": [
    "##### 이제부터 GPU 가속으로 파이토치(텐서플로 가능) 딥러닝을 할 수 있음"
   ]
  }
 ],
 "metadata": {
  "kernelspec": {
   "display_name": "Python 3",
   "language": "python",
   "name": "python3"
  },
  "language_info": {
   "codemirror_mode": {
    "name": "ipython",
    "version": 3
   },
   "file_extension": ".py",
   "mimetype": "text/x-python",
   "name": "python",
   "nbconvert_exporter": "python",
   "pygments_lexer": "ipython3",
   "version": "3.11.5"
  }
 },
 "nbformat": 4,
 "nbformat_minor": 2
}
